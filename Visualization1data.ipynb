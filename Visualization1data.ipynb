{
 "cells": [
  {
   "cell_type": "code",
   "execution_count": 1,
   "metadata": {
    "collapsed": true
   },
   "outputs": [],
   "source": [
    "from sklearn import tree\n",
    "import pandas as pd\n",
    "from collections import Counter\n",
    "import numpy as np\n",
    "from __future__ import division"
   ]
  },
  {
   "cell_type": "code",
   "execution_count": 2,
   "metadata": {
    "collapsed": true
   },
   "outputs": [],
   "source": [
    "#Load the data and remove the incidents with NA entries\n",
    "crimed = pd.read_csv('SFPD_Incidents_-_from_1_January_2003.csv')\n",
    "crimedata=crimed.dropna()\n",
    "crimedata=crimedata.reset_index(drop=True)\n",
    "#Remove the columns that are not needed\n",
    "crimedata=crimedata.drop(crimedata.columns[[0,2,3,5,7,8,9,10,11,12]], axis=1) "
   ]
  },
  {
   "cell_type": "code",
   "execution_count": 3,
   "metadata": {
    "collapsed": false
   },
   "outputs": [],
   "source": [
    "#Get a list of the different districts\n",
    "distcount=Counter(crimedata[\"PdDistrict\"]).most_common()\n",
    "districts=[]\n",
    "for i in range(len(distcount)):\n",
    "    districts.append(distcount[i][0])"
   ]
  },
  {
   "cell_type": "code",
   "execution_count": 4,
   "metadata": {
    "collapsed": false
   },
   "outputs": [],
   "source": [
    "#Preallocate the lists\n",
    "prostcrime2003= [0 for i in range(len(distcount))]\n",
    "prostcrime2015= [0 for i in range(len(distcount))]\n",
    "vehiclecrime2003=[0 for i in range(len(distcount))]\n",
    "vehiclecrime2015=[0 for i in range(len(distcount))]\n",
    "totalcrime2003=[0 for i in range(len(distcount))]\n",
    "totalcrime2015=[0 for i in range(len(distcount))]\n",
    "\n",
    "#Add the total crime, prostitution and vehicle theft to the corresponding lists based on the year\n",
    "for i in range(len(crimedata)):\n",
    "    #Get the category and district of the given incident.\n",
    "    cat=crimedata['Category'][i]\n",
    "    dist=crimedata['PdDistrict'][i]\n",
    "    index=districts.index(dist)\n",
    "    #Add to total crimes if the crime is in 2003 or 2015.\n",
    "    if crimedata['Date'][i][-4:]==str(2015):\n",
    "        totalcrime2015[index]+=1     \n",
    "    if crimedata['Date'][i][-4:]==str(2003):\n",
    "        totalcrime2003[index]+=1\n",
    "    #Add to Prostitution crime if the crime is in 2003 or 2015 and is PROSTITUTION.\n",
    "    if cat==\"PROSTITUTION\":\n",
    "        if crimedata['Date'][i][-4:]==str(2015):\n",
    "            prostcrime2015[index]+=1\n",
    "        if crimedata['Date'][i][-4:]==str(2003):\n",
    "            prostcrime2003[index]+=1\n",
    "    #Add to vehicle crime if the crime is in 2003 or 2015 and is VEHICLE THEFT.   \n",
    "    if cat==\"VEHICLE THEFT\":\n",
    "        if crimedata['Date'][i][-4:]==str(2015):\n",
    "            vehiclecrime2015[index]+=1\n",
    "        if crimedata['Date'][i][-4:]==str(2003):\n",
    "            vehiclecrime2003[index]+=1"
   ]
  },
  {
   "cell_type": "code",
   "execution_count": 6,
   "metadata": {
    "collapsed": false
   },
   "outputs": [],
   "source": [
    "#Create a new dataframe with the lists that are needed\n",
    "cleandf = pd.DataFrame(\n",
    "    {'Districts': districts,\n",
    "     'TotalCrime2003': totalcrime2003,\n",
    "     'ProstitutionCount2003': prostcrime2003,\n",
    "     'VehicleTheftCount2003': vehiclecrime2003,\n",
    "     'TotalCrime2015': totalcrime2015,\n",
    "     'ProstitutionCount2015': prostcrime2015,\n",
    "     'VehicleTheftCount2015': vehiclecrime2015\n",
    "    })\n",
    "\n",
    "#Save the new dataframe as a csv file.\n",
    "pd.DataFrame.to_csv(cleandf,\"Vis1.csv\",index=False)"
   ]
  }
 ],
 "metadata": {
  "kernelspec": {
   "display_name": "Python 2",
   "language": "python",
   "name": "python2"
  },
  "language_info": {
   "codemirror_mode": {
    "name": "ipython",
    "version": 2
   },
   "file_extension": ".py",
   "mimetype": "text/x-python",
   "name": "python",
   "nbconvert_exporter": "python",
   "pygments_lexer": "ipython2",
   "version": "2.7.13"
  }
 },
 "nbformat": 4,
 "nbformat_minor": 0
}
