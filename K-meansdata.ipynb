{
 "cells": [
  {
   "cell_type": "markdown",
   "metadata": {},
   "source": [
    "# Here below we have the data anylsis done for the Kmeans for the web page in Assignment 2.\n",
    "-------------------------------------------------------------------------\n"
   ]
  },
  {
   "cell_type": "code",
   "execution_count": 1,
   "metadata": {
    "collapsed": true
   },
   "outputs": [],
   "source": [
    "import json\n",
    "import pandas as pd\n",
    "import numpy as np\n",
    "from sklearn.cluster import KMeans"
   ]
  },
  {
   "cell_type": "code",
   "execution_count": 2,
   "metadata": {
    "collapsed": true
   },
   "outputs": [],
   "source": [
    "#Create an empty dictionary that can store all the data needed for the visualization.\n",
    "kmeansdict={\"Coordinates\":[],\"K2labels\":[],\"K3labels\":[],\"K4labels\":[],\"K5labels\":[],\"K6labels\":[],\"Mean\":[]}"
   ]
  },
  {
   "cell_type": "code",
   "execution_count": 3,
   "metadata": {
    "collapsed": false
   },
   "outputs": [],
   "source": [
    "#Load the data as a pandas dataframe\n",
    "dat = pd.read_csv(\"SFPD_Incidents_-_from_1_January_2003.csv\")\n",
    "\n",
    "#Discarding bad y data. 90 degrees is an error\n",
    "dat = dat[dat.Y < 90]\n",
    "\n",
    "#Only getting prostitution\n",
    "dat = dat[dat.Category == \"PROSTITUTION\"]"
   ]
  },
  {
   "cell_type": "code",
   "execution_count": 4,
   "metadata": {
    "collapsed": false
   },
   "outputs": [],
   "source": [
    "#Getting the relevant x and y values from the dataframe\n",
    "data = np.array([list(dat[\"X\"]),list(dat[\"Y\"])]).T # Need to be transposed .T\n",
    "\n",
    "#Add the coordinates to the dictionary\n",
    "cordlist=list([list(x) for x in data])\n",
    "kmeansdict[\"Coordinates\"]=cordlist\n",
    "\n",
    "#Set range for chich K's to use.\n",
    "K = range(2,7)\n",
    "\n",
    "for k in K:\n",
    "    #Create the K-Means model and fit it\n",
    "    estimator = KMeans(init='k-means++', n_clusters=k, n_init=10)\n",
    "    modelKM = estimator.fit(data)\n",
    "    #Save the labels and the means of the clusters\n",
    "    kmeansdict[\"Mean\"].append(list([list(x) for x in modelKM.cluster_centers_]))\n",
    "    kmeansdict[\"K\"+str(k)+\"labels\"]=list(modelKM.labels_)"
   ]
  },
  {
   "cell_type": "code",
   "execution_count": null,
   "metadata": {
    "collapsed": false
   },
   "outputs": [],
   "source": [
    "#Save the data as a .json file\n",
    "#Json not working on some computers but worked for us to save the data.\n",
    "with open('kmeansdata.json', 'w') as outfile:\n",
    "    json.dump(kmeansdict, outfile)"
   ]
  },
  {
   "cell_type": "markdown",
   "metadata": {},
   "source": [
    "---------------------------------------------------------------------------------------------------------------------"
   ]
  },
  {
   "cell_type": "markdown",
   "metadata": {},
   "source": [
    "# Here below we have the rest of the Kmeans exercise for week 5 if that is needed.\n",
    "--------------------------------------------------------------------------------\n",
    "\n"
   ]
  },
  {
   "cell_type": "markdown",
   "metadata": {},
   "source": [
    "##### Begin by creating a K-means class for K=2,...10 also calculating the Total Squared Error in the same loop"
   ]
  },
  {
   "cell_type": "code",
   "execution_count": 5,
   "metadata": {
    "collapsed": true
   },
   "outputs": [],
   "source": [
    "K = range(2,11)\n",
    "\n",
    "#Creating empty dict and array for model and squared errors\n",
    "modelKM = {}\n",
    "sqErr = []\n",
    "\n",
    "for k in K:\n",
    "    estimator = KMeans(init='k-means++', n_clusters=k, n_init=10)\n",
    "    modelKM[k] = estimator.fit(data)\n",
    "    sqErr.append(modelKM[k].inertia_)"
   ]
  },
  {
   "cell_type": "markdown",
   "metadata": {},
   "source": [
    "#### Plotting up the squared error to number of clusters"
   ]
  },
  {
   "cell_type": "code",
   "execution_count": 6,
   "metadata": {
    "collapsed": false
   },
   "outputs": [
    {
     "data": {
      "image/png": "[encoded data removed]",
      "text/plain": [
       "<matplotlib.figure.Figure at 0x127f2c250>"
      ]
     },
     "metadata": {},
     "output_type": "display_data"
    }
   ],
   "source": [
    "import matplotlib.pyplot as plt\n",
    "plt.plot(K,sqErr, color='darkred',marker=\"x\") # add a title\n",
    "plt.title(\"Error as a function of the number of clusters\")\n",
    "plt.ylabel(\"Total squared error\")\n",
    "plt.xlabel(\"Number of clusters\")\n",
    "\n",
    "plt.grid(True)\n",
    "plt.show()"
   ]
  },
  {
   "cell_type": "markdown",
   "metadata": {},
   "source": [
    "------------------------------------------------------------------------"
   ]
  }
 ],
 "metadata": {
  "anaconda-cloud": {},
  "kernelspec": {
   "display_name": "Python [Root]",
   "language": "python",
   "name": "Python [Root]"
  },
  "language_info": {
   "codemirror_mode": {
    "name": "ipython",
    "version": 2
   },
   "file_extension": ".py",
   "mimetype": "text/x-python",
   "name": "python",
   "nbconvert_exporter": "python",
   "pygments_lexer": "ipython2",
   "version": "2.7.12"
  }
 },
 "nbformat": 4,
 "nbformat_minor": 2
}
